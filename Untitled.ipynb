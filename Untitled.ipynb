{
 "cells": [
  {
   "cell_type": "markdown",
   "id": "9f46f9e0-7481-4691-813a-358b2514d573",
   "metadata": {},
   "source": [
    "### Explain the key features of python that makes it a popular choice for programming?\n",
    "   the  key features of python are:-\n",
    "   1. readable and simple  syntax  its  make easy to understannd for the beginners for the coding lines . This simplicity allows developers to focus more on problem-solving rather than syntax issues.\n",
    "   2. Library . there is lots of library in the python which make easy to do lots of task in small amount of times.\n",
    "   3.  Cross platfrom compatibility- Python is cross-platform, meaning it can run on various operating systems, including Windows, macOS, and Linux. This makes Python a versatile choice for developers working in different environments.\n",
    "   4.  Interpreted Language - Python is an interpreted language, meaning code is executed line by line, which helps in easy debugging and rapid prototyping. There is no need for a compilation step, which speeds up the development process\n",
    "   5.  Versatility and General-Purpose- Python is a general-purpose language that can be used for a wide range of applications, including web development, data analysis, artificial intelligence, scientific computing, automation, and more.\n",
    "    "
   ]
  },
  {
   "cell_type": "markdown",
   "id": "1030530b-04f3-49e1-9948-cd450ae3f12e",
   "metadata": {},
   "source": [
    "### Describe the role of predefined keywords in python and provide examples of how they are used in a  program.\n",
    "-- Predefined keywords in Python are reserved words that have special meanings and are used to define the syntax and structure of the Python language. These keywords cannot be used as identifiers (names for variables, functions, etc.) in your programs because they are part of the core syntax. Keywords help in defining the control flow, data types, functions, and other fundamental elements of the language.\n",
    "example of pre define keywords are in next cell---"
   ]
  },
  {
   "cell_type": "code",
   "execution_count": 1,
   "id": "9d809d4e-97ca-42a4-be32-52d2117773c2",
   "metadata": {},
   "outputs": [
    {
     "name": "stdout",
     "output_type": "stream",
     "text": [
      "x is greater than 15\n"
     ]
    }
   ],
   "source": [
    "# 1st example\n",
    "x=50\n",
    "if x > 15:\n",
    "    print(\"x is greater than 15\")\n",
    "else:\n",
    "    print(\"x is smaller than 15\")\n"
   ]
  },
  {
   "cell_type": "code",
   "execution_count": 3,
   "id": "67e989dd-307b-4460-afe8-e9cfa3ccfee0",
   "metadata": {},
   "outputs": [
    {
     "name": "stdout",
     "output_type": "stream",
     "text": [
      "0\n",
      "1\n",
      "2\n",
      "3\n",
      "4\n",
      "5\n",
      "6\n"
     ]
    }
   ],
   "source": [
    "# 2nd example\n",
    "#for loop\n",
    "for i in range(7):\n",
    "    print (i)\n",
    "\n",
    "\n"
   ]
  },
  {
   "cell_type": "code",
   "execution_count": 4,
   "id": "b92bf9b7-e70d-4382-ad75-c50cd9ef6f8d",
   "metadata": {},
   "outputs": [
    {
     "name": "stdout",
     "output_type": "stream",
     "text": [
      "0\n",
      "2\n",
      "4\n",
      "6\n",
      "8\n"
     ]
    }
   ],
   "source": [
    "#3rd example\n",
    "#while loop\n",
    "count=0\n",
    "while count<10:\n",
    "    print(count)\n",
    "    count += 2"
   ]
  },
  {
   "cell_type": "markdown",
   "id": "b3266721-1b99-4544-8d01-1bd34eb9d79a",
   "metadata": {},
   "source": [
    "### compare and contrast mutable and immutable objects in python with examples.\n",
    "\n",
    "---Mutable objects are objects whose state can be modified after they are created. \n",
    "like lists and  dictionaries.\n",
    "\n",
    "---Immutable objects are objects whose state cannot be modified after they are created. \n",
    "like string and tuples\n",
    "\n",
    "Example in next cell-"
   ]
  },
  {
   "cell_type": "code",
   "execution_count": 5,
   "id": "ab30c8a9-d9f5-434c-a11d-ea4d610b0ed2",
   "metadata": {},
   "outputs": [
    {
     "name": "stdout",
     "output_type": "stream",
     "text": [
      "[7, 2, 3, 4, 5]\n"
     ]
    }
   ],
   "source": [
    "# mutable \n",
    "#Lists\n",
    "my_list =[1,2,3,4,5] # Modifying the first element\n",
    "my_list[0] = 7\n",
    "print(my_list) # output: [7,2,3,4,5]"
   ]
  },
  {
   "cell_type": "code",
   "execution_count": 6,
   "id": "77dd5999-23a6-4a09-9471-a4ebfdf8b014",
   "metadata": {},
   "outputs": [
    {
     "name": "stdout",
     "output_type": "stream",
     "text": [
      "hellow world\n"
     ]
    }
   ],
   "source": [
    "#immutable\n",
    "#string\n",
    "my_string = \"hellow world\"\n",
    "print(my_string) # we cannot able to change in the string"
   ]
  },
  {
   "cell_type": "markdown",
   "id": "d2b6fe59-f104-4f16-b648-c36cece936f1",
   "metadata": {},
   "source": [
    "### Discuss the different types of operators in python and provide examples of how they are used .\n",
    "\n",
    "--the different types of operators in python are\n",
    "   1.Arithmetic operators\n",
    "   2.\n",
    "Assignment operators\n",
    "   3.\r\n",
    "Comparison operato\n",
    "   4.s\r\n",
    "Logical operat\n",
    "   5.rs\r\n",
    "Iden ity opers \n",
    "   6.ors\r\n",
    "Membership oper\n",
    "   7.tors\r\n",
    "Bitwise ope\n",
    "\n",
    "  -- examplerators"
   ]
  },
  {
   "cell_type": "code",
   "execution_count": 7,
   "id": "312c1b5f-97cd-4730-a373-22513396159f",
   "metadata": {},
   "outputs": [
    {
     "name": "stdout",
     "output_type": "stream",
     "text": [
      "8\n",
      "2\n",
      "15\n",
      "1.6666666666666667\n",
      "2\n"
     ]
    }
   ],
   "source": [
    "#Arithmetic Operators\n",
    "x = 5\n",
    "y = 3\n",
    "print(x + y)\n",
    "\n",
    "print(x - y)\n",
    "\n",
    "print(x * y)\n",
    "\n",
    "print(x / y)\n",
    "\n",
    "print(x % y)"
   ]
  },
  {
   "cell_type": "code",
   "execution_count": 8,
   "id": "c641c5e1-d692-4a12-8b6b-5596d7d87cc7",
   "metadata": {},
   "outputs": [
    {
     "name": "stdout",
     "output_type": "stream",
     "text": [
      "False\n",
      "True\n",
      "True\n",
      "False\n"
     ]
    }
   ],
   "source": [
    "#Comparison Operators\n",
    "x = 5\n",
    "y = 3\n",
    "print(x == y)\n",
    "\n",
    "print(x != y)\n",
    "\n",
    "print(x > y)\n",
    "\n",
    "print(x < y)"
   ]
  },
  {
   "cell_type": "code",
   "execution_count": 9,
   "id": "9b35a000-621f-4eba-95de-607b2f71a08c",
   "metadata": {},
   "outputs": [
    {
     "name": "stdout",
     "output_type": "stream",
     "text": [
      "True\n",
      "True\n",
      "False\n"
     ]
    }
   ],
   "source": [
    "#Logical Operators\n",
    "x = 5\n",
    "print(x > 3 and x < 10) \n",
    "\n",
    "print(x > 3 or x < 4)\n",
    "\n",
    "print(not(x > 3 and x < 10))\n",
    "\n"
   ]
  },
  {
   "cell_type": "markdown",
   "id": "950074bd-c005-4b9f-b731-e2ffbc75a718",
   "metadata": {},
   "source": [
    "### Explain the concept of type casting in python with example.\n",
    "\n",
    "---Type casting in Python is the process of converting one data type into another. Python provides several built-in functions to facilitate type casting.\n",
    " the commom typecasting are:-\n",
    "    int(): Converts a value to an integer.\n",
    "    float(): Converts a value to a float (decimal number).\n",
    "    str(): Converts a value to a string.\n",
    "    list(): Converts a value to a list.\n",
    "    tuple(): Converts a value to a tuple.\n",
    "    set(): Converts a value to a set.\n",
    "    dict(): Converts a value to a dictionary (if possible).\n",
    "\n",
    "    example :-\n",
    "    \n",
    " "
   ]
  },
  {
   "cell_type": "code",
   "execution_count": 10,
   "id": "70992f3c-31ae-4c65-a82a-3c5181d47a01",
   "metadata": {},
   "outputs": [
    {
     "name": "stdout",
     "output_type": "stream",
     "text": [
      "5\n"
     ]
    }
   ],
   "source": [
    "#int\n",
    "num = 5.67\n",
    "int_num = int(num)\n",
    "print(int_num)"
   ]
  },
  {
   "cell_type": "code",
   "execution_count": 11,
   "id": "4bdf6e46-ca69-4ca4-b2c8-59c03270bbca",
   "metadata": {},
   "outputs": [
    {
     "name": "stdout",
     "output_type": "stream",
     "text": [
      "3.14\n"
     ]
    }
   ],
   "source": [
    "#float\n",
    "str_num = \"3.14\"\n",
    "float_num = float(str_num)\n",
    "print(float_num)"
   ]
  },
  {
   "cell_type": "code",
   "execution_count": 12,
   "id": "3a6a982c-4437-4f2e-922d-22d8c95cf579",
   "metadata": {},
   "outputs": [
    {
     "name": "stdout",
     "output_type": "stream",
     "text": [
      "10\n"
     ]
    }
   ],
   "source": [
    "#str\n",
    "num = 10\n",
    "str_num = str(num)\n",
    "print(str_num)  # Output: \"10\""
   ]
  },
  {
   "cell_type": "code",
   "execution_count": 14,
   "id": "1b3bffa2-811e-4994-9139-88af978f2981",
   "metadata": {},
   "outputs": [
    {
     "name": "stdout",
     "output_type": "stream",
     "text": [
      "[1, 2, 3]\n"
     ]
    }
   ],
   "source": [
    "#list\n",
    "tup = (1, 2, 3)\n",
    "list_tup = list(tup)\n",
    "print(list_tup)  # Output: [1, 2, 3]"
   ]
  },
  {
   "cell_type": "code",
   "execution_count": 15,
   "id": "df61b25e-da95-4a07-b139-64956594553e",
   "metadata": {},
   "outputs": [
    {
     "name": "stdout",
     "output_type": "stream",
     "text": [
      "{'a': 1, 'b': 2}\n"
     ]
    }
   ],
   "source": [
    "#dict\n",
    "lst = [(\"a\", 1), (\"b\", 2)]\n",
    "dict_lst = dict(lst)\n",
    "print(dict_lst)"
   ]
  },
  {
   "cell_type": "markdown",
   "id": "25aad976-c130-474a-826a-1001df81d9f1",
   "metadata": {},
   "source": [
    "### how do conditional statements work in python? illustrate with example.\n",
    "--- Conditional statements in Python are used to execute certain blocks of code based on whether a condition is true or false. The most common conditional statements in Python are if, elif, and else.\n",
    "\n",
    "example-"
   ]
  },
  {
   "cell_type": "code",
   "execution_count": 16,
   "id": "0e00183d-286e-425c-be73-0574fc07a784",
   "metadata": {},
   "outputs": [
    {
     "name": "stdout",
     "output_type": "stream",
     "text": [
      "It's a cool day.\n"
     ]
    }
   ],
   "source": [
    "#conditional statements\n",
    "temperature = 15\n",
    "\n",
    "if temperature > 30:\n",
    "    print(\"It's a hot day.\")\n",
    "elif temperature > 20:\n",
    "    print(\"It's a warm day.\")\n",
    "elif temperature > 10:\n",
    "    print(\"It's a cool day.\")\n",
    "else:\n",
    "    print(\"It's a cold day.\")\n"
   ]
  },
  {
   "cell_type": "markdown",
   "id": "743fee04-4d75-4d98-b081-58ce1bb3b8d7",
   "metadata": {},
   "source": [
    "### Describe the different types of loops in python and their use cases with example.\n",
    "--- there are primarily three types of loops: for loops, while loops, and nested loops.\n",
    "--The for loop is used to iterate over a sequence (such as a list, tuple, dictionary, set, or string) or other iterable objects\n",
    "--The while loop is used to execute a block of code as long as a condition is true. It's useful when the number of iterations is not known beforehand and depends on some dynamic condition.\n",
    "--Nested loops are loops within loops. You can use a for loop or a while loop inside another loop to handle more complex iteration scenarios, such as working with multi-dimensional data structures.\n",
    "\n",
    " example:-\n",
    " "
   ]
  },
  {
   "cell_type": "code",
   "execution_count": 17,
   "id": "8f77a5a1-f11d-45d8-9cee-62bd5ac5c55c",
   "metadata": {},
   "outputs": [
    {
     "name": "stdout",
     "output_type": "stream",
     "text": [
      "apple\n",
      "banana\n",
      "cherry\n"
     ]
    }
   ],
   "source": [
    "#for loop\n",
    "fruits = ['apple', 'banana', 'cherry']\n",
    "for fruit in fruits:\n",
    "    print(fruit)"
   ]
  },
  {
   "cell_type": "code",
   "execution_count": 18,
   "id": "f15f0107-7207-4b1d-9bc6-1d5375b40d55",
   "metadata": {},
   "outputs": [
    {
     "name": "stdout",
     "output_type": "stream",
     "text": [
      "5\n",
      "4\n",
      "3\n",
      "2\n",
      "1\n"
     ]
    }
   ],
   "source": [
    "#while  loop\n",
    "count = 5\n",
    "while count > 0:\n",
    "    print(count)\n",
    "    count -= 1"
   ]
  },
  {
   "cell_type": "code",
   "execution_count": 19,
   "id": "15e84a04-aeaf-4f30-9290-fb4bda825af0",
   "metadata": {},
   "outputs": [
    {
     "name": "stdout",
     "output_type": "stream",
     "text": [
      "(0, 0) (0, 1) (0, 2) \n",
      "(1, 0) (1, 1) (1, 2) \n",
      "(2, 0) (2, 1) (2, 2) \n"
     ]
    }
   ],
   "source": [
    "#nested loops\n",
    "for i in range(3):\n",
    "    for j in range(3):\n",
    "        print(f'({i}, {j})', end=' ')\n",
    "    print()"
   ]
  },
  {
   "cell_type": "code",
   "execution_count": null,
   "id": "4297c35d-bf78-4690-8097-1601792b3d57",
   "metadata": {},
   "outputs": [],
   "source": []
  }
 ],
 "metadata": {
  "kernelspec": {
   "display_name": "Python 3 (ipykernel)",
   "language": "python",
   "name": "python3"
  },
  "language_info": {
   "codemirror_mode": {
    "name": "ipython",
    "version": 3
   },
   "file_extension": ".py",
   "mimetype": "text/x-python",
   "name": "python",
   "nbconvert_exporter": "python",
   "pygments_lexer": "ipython3",
   "version": "3.11.7"
  }
 },
 "nbformat": 4,
 "nbformat_minor": 5
}
